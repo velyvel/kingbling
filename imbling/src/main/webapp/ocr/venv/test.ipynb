{
 "cells": [
  {
   "cell_type": "code",
   "execution_count": 16,
   "metadata": {},
   "outputs": [
    {
     "ename": "ModuleNotFoundError",
     "evalue": "No module named 'matplotlib'",
     "output_type": "error",
     "traceback": [
      "\u001b[0;31m---------------------------------------------------------------------------\u001b[0m",
      "\u001b[0;31mModuleNotFoundError\u001b[0m                       Traceback (most recent call last)",
      "Cell \u001b[0;32mIn[16], line 1\u001b[0m\n\u001b[0;32m----> 1\u001b[0m \u001b[39mimport\u001b[39;00m \u001b[39mmatplotlib\u001b[39;00m\u001b[39m.\u001b[39;00m\u001b[39mpyplot\u001b[39;00m \u001b[39mas\u001b[39;00m \u001b[39mplt\u001b[39;00m\n\u001b[1;32m      2\u001b[0m \u001b[39mimport\u001b[39;00m \u001b[39mpytesseract\u001b[39;00m\n",
      "\u001b[0;31mModuleNotFoundError\u001b[0m: No module named 'matplotlib'"
     ]
    }
   ],
   "source": [
    "\n",
    "import matplotlib.pyplot as plt\n",
    "import pytesseract\n",
    "\n",
    "\n"
   ]
  },
  {
   "cell_type": "code",
   "execution_count": 9,
   "metadata": {},
   "outputs": [
    {
     "ename": "NameError",
     "evalue": "name 'pytesseract' is not defined",
     "output_type": "error",
     "traceback": [
      "\u001b[0;31m---------------------------------------------------------------------------\u001b[0m",
      "\u001b[0;31mNameError\u001b[0m                                 Traceback (most recent call last)",
      "Cell \u001b[0;32mIn[9], line 1\u001b[0m\n\u001b[0;32m----> 1\u001b[0m pytesseract\u001b[39m.\u001b[39mpytesseract\u001b[39m.\u001b[39mtesseract_cmd\u001b[39m=\u001b[39m\u001b[39mr\u001b[39m\u001b[39m'\u001b[39m\u001b[39m/usr/local/Cellar/tesseract/5.3.0/bin/tesseract\u001b[39m\u001b[39m'\u001b[39m\n\u001b[1;32m      3\u001b[0m message\u001b[39m=\u001b[39mpytesseract\u001b[39m.\u001b[39mimage_to_string(Image\u001b[39m.\u001b[39mopen(\u001b[39m\"\u001b[39m\u001b[39maccount-attachments/사업자등록증(산림조합).jpg\u001b[39m\u001b[39m\"\u001b[39m),lang\u001b[39m=\u001b[39m\u001b[39m\"\u001b[39m\u001b[39mkor\u001b[39m\u001b[39m\"\u001b[39m)\n\u001b[1;32m      4\u001b[0m message\u001b[39m=\u001b[39mmessage\u001b[39m.\u001b[39msplit()\n",
      "\u001b[0;31mNameError\u001b[0m: name 'pytesseract' is not defined"
     ]
    }
   ],
   "source": [
    "pytesseract.pytesseract.tesseract_cmd=r'/usr/local/Cellar/tesseract/5.3.0/bin/tesseract'\n",
    "\n",
    "message=pytesseract.image_to_string(Image.open(\"account-attachments/사업자등록증(산림조합).jpg\"),lang=\"kor\")\n",
    "message=message.split()\n",
    "\n",
    "for v in message:\n",
    "    if len(v)==12 and v[3]==\"-\" and v[6]==\"-\" and v[:2].isdigit()==True and v[-5:].isdigit()==True and v[4:6].isdigit()==True:\n",
    "        print(v)\n",
    "        print(v[-5:])"
   ]
  },
  {
   "cell_type": "code",
   "execution_count": 59,
   "metadata": {},
   "outputs": [
    {
     "name": "stdout",
     "output_type": "stream",
     "text": [
      "rescode\n",
      "b'{\"resultCode\":0,\"resultMsg\":\"NORMAL SERVICE.\",\"totalCount\":1,\"items\":[{\"company\":\"\\\\uC8FC\\\\uC2DD\\\\uD68C\\\\uC0AC \\\\uB9AC\\\\uADF8\\\\uB77C\\\\uC6B4\\\\uB4DC\",\"bno\":\"104-86-53569\",\"cno\":\"110111-5337765\",\"bsttcd\":\"\",\"bstt\":\"\",\"TaxTypeCd\":\"\",\"taxtype\":\"\",\"EndDt\":\"\"}]}'\n",
      "rescode\n",
      "{\"resultCode\":0,\"resultMsg\":\"NORMAL SERVICE.\",\"totalCount\":1,\"items\":[{\"company\":\"\\uC8FC\\uC2DD\\uD68C\\uC0AC \\uB9AC\\uADF8\\uB77C\\uC6B4\\uB4DC\",\"bno\":\"104-86-53569\",\"cno\":\"110111-5337765\",\"bsttcd\":\"\",\"bstt\":\"\",\"TaxTypeCd\":\"\",\"taxtype\":\"\",\"EndDt\":\"\"}]}\n"
     ]
    },
    {
     "ename": "TypeError",
     "evalue": "string indices must be integers",
     "output_type": "error",
     "traceback": [
      "\u001b[0;31m---------------------------------------------------------------------------\u001b[0m",
      "\u001b[0;31mTypeError\u001b[0m                                 Traceback (most recent call last)",
      "Cell \u001b[0;32mIn[59], line 19\u001b[0m\n\u001b[1;32m     16\u001b[0m     \u001b[39mprint\u001b[39m(\u001b[39m\"\u001b[39m\u001b[39mrescode\u001b[39m\u001b[39m\"\u001b[39m)\n\u001b[1;32m     18\u001b[0m     \u001b[39mprint\u001b[39m(response_body\u001b[39m.\u001b[39mdecode(\u001b[39m'\u001b[39m\u001b[39mutf-8\u001b[39m\u001b[39m'\u001b[39m))\n\u001b[0;32m---> 19\u001b[0m     \u001b[39mprint\u001b[39m(jsonFile[\u001b[39m'\u001b[39;49m\u001b[39mresultCode\u001b[39;49m\u001b[39m'\u001b[39;49m])\n\u001b[1;32m     21\u001b[0m \u001b[39melse\u001b[39;00m:\n\u001b[1;32m     22\u001b[0m     \u001b[39mprint\u001b[39m(\u001b[39m\"\u001b[39m\u001b[39mError Code:\u001b[39m\u001b[39m\"\u001b[39m \u001b[39m+\u001b[39m rescode)\n",
      "\u001b[0;31mTypeError\u001b[0m: string indices must be integers"
     ]
    }
   ],
   "source": [
    "\n",
    "import urllib.request\n",
    "\n",
    "\n",
    "url = \"https://bizno.net/api/fapi?key=a2lqdTI5MTJAbmF2ZXIuY29t&gb=1&q=104-86-53569&type=json\"  # JSON 결과\n",
    "\n",
    "request = urllib.request.Request(url)\n",
    "\n",
    "response = urllib.request.urlopen(request)\n",
    "rescode = response.getcode()\n",
    "if(rescode==200):\n",
    "    response_body = response.read()\n",
    "    jsonFile=response_body.decode('utf-8')\n",
    "    print(\"rescode\")\n",
    "\n",
    "    print(response_body)\n",
    "    print(\"rescode\")\n",
    "\n",
    "    print(response_body.decode('utf-8'))\n",
    "    \n",
    "else:\n",
    "    print(\"Error Code:\" + rescode)\n",
    "    "
   ]
  },
  {
   "cell_type": "code",
   "execution_count": 57,
   "metadata": {},
   "outputs": [
    {
     "ename": "AttributeError",
     "evalue": "module 'urllib' has no attribute 'requests'",
     "output_type": "error",
     "traceback": [
      "\u001b[0;31m---------------------------------------------------------------------------\u001b[0m",
      "\u001b[0;31mAttributeError\u001b[0m                            Traceback (most recent call last)",
      "Cell \u001b[0;32mIn[57], line 9\u001b[0m\n\u001b[1;32m      6\u001b[0m url \u001b[39m=\u001b[39m \u001b[39m\"\u001b[39m\u001b[39mhttps://bizno.net/api/fapi?key=a2lqdTI5MTJAbmF2ZXIuY29t&gb=1&q=104-86-53569&type=json\u001b[39m\u001b[39m\"\u001b[39m  \u001b[39m# JSON 결과\u001b[39;00m\n\u001b[1;32m      8\u001b[0m \u001b[39m# url 불러오기\u001b[39;00m\n\u001b[0;32m----> 9\u001b[0m response \u001b[39m=\u001b[39m urllib\u001b[39m.\u001b[39;49mrequests\u001b[39m.\u001b[39mget(url)\n\u001b[1;32m     11\u001b[0m \u001b[39m#데이터 값 출력해보기\u001b[39;00m\n",
      "\u001b[0;31mAttributeError\u001b[0m: module 'urllib' has no attribute 'requests'"
     ]
    }
   ],
   "source": [
    "import  urllib.request\n",
    "import pprint\n",
    "import json\n",
    "\n",
    "# url 입력\n",
    "url = \"https://bizno.net/api/fapi?key=a2lqdTI5MTJAbmF2ZXIuY29t&gb=1&q=104-86-53569&type=json\"  # JSON 결과\n",
    "\n",
    "# url 불러오기\n",
    "response = urllib.request.get\n",
    "\n",
    "#데이터 값 출력해보기\n"
   ]
  }
 ],
 "metadata": {
  "kernelspec": {
   "display_name": "Python 3.9.6 64-bit",
   "language": "python",
   "name": "python3"
  },
  "language_info": {
   "codemirror_mode": {
    "name": "ipython",
    "version": 3
   },
   "file_extension": ".py",
   "mimetype": "text/x-python",
   "name": "python",
   "nbconvert_exporter": "python",
   "pygments_lexer": "ipython3",
   "version": "3.9.6"
  },
  "orig_nbformat": 4,
  "vscode": {
   "interpreter": {
    "hash": "31f2aee4e71d21fbe5cf8b01ff0e069b9275f58929596ceb00d14d90e3e16cd6"
   }
  }
 },
 "nbformat": 4,
 "nbformat_minor": 2
}
